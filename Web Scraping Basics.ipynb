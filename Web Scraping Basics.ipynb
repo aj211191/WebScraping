{
 "cells": [
  {
   "cell_type": "code",
   "execution_count": 1,
   "metadata": {},
   "outputs": [],
   "source": [
    "import pandas as pd\n",
    "import requests \n",
    "from bs4 import BeautifulSoup"
   ]
  },
  {
   "cell_type": "code",
   "execution_count": 2,
   "metadata": {},
   "outputs": [],
   "source": [
    "url = 'https://webscraper.io/test-sites/e-commerce/allinone/computers'\n"
   ]
  },
  {
   "cell_type": "code",
   "execution_count": 3,
   "metadata": {},
   "outputs": [
    {
     "data": {
      "text/plain": [
       "<Response [200]>"
      ]
     },
     "execution_count": 3,
     "metadata": {},
     "output_type": "execute_result"
    }
   ],
   "source": [
    "requests.get(url)\n",
    "#this response <Response [200]> means that the website will allow scraping. if its Response [400] , then it wont"
   ]
  },
  {
   "cell_type": "code",
   "execution_count": 4,
   "metadata": {},
   "outputs": [],
   "source": [
    "page = requests.get(url)"
   ]
  },
  {
   "cell_type": "code",
   "execution_count": 5,
   "metadata": {},
   "outputs": [],
   "source": [
    "#when you run page.text it returns ugly html code\n",
    "#page.text"
   ]
  },
  {
   "cell_type": "code",
   "execution_count": 6,
   "metadata": {},
   "outputs": [],
   "source": [
    "#to get beautiful html code use beautiful soup"
   ]
  },
  {
   "cell_type": "code",
   "execution_count": 7,
   "metadata": {},
   "outputs": [],
   "source": [
    "soup = BeautifulSoup(page.text,'lxml')"
   ]
  },
  {
   "cell_type": "code",
   "execution_count": 8,
   "metadata": {},
   "outputs": [],
   "source": [
    "# commenting the below code so that I can review the code in a better way\n",
    "#soup"
   ]
  },
  {
   "cell_type": "code",
   "execution_count": 9,
   "metadata": {},
   "outputs": [
    {
     "data": {
      "text/plain": [
       "'Web Scraper'"
      ]
     },
     "execution_count": 9,
     "metadata": {},
     "output_type": "execute_result"
    }
   ],
   "source": [
    "soup.div.p.string"
   ]
  },
  {
   "cell_type": "code",
   "execution_count": 10,
   "metadata": {},
   "outputs": [],
   "source": [
    "tag = soup.header.a"
   ]
  },
  {
   "cell_type": "code",
   "execution_count": null,
   "metadata": {},
   "outputs": [],
   "source": []
  },
  {
   "cell_type": "code",
   "execution_count": 11,
   "metadata": {},
   "outputs": [
    {
     "data": {
      "text/plain": [
       "<a data-target=\".side-collapse\" data-target-2=\".side-collapse-container\" data-toggle=\"collapse-side\">\n",
       "<button aria-controls=\"navbar\" aria-expanded=\"false\" class=\"navbar-toggle pull-right collapsed\" data-target=\"#navbar\" data-target-2=\".side-collapse-container\" data-target-3=\".side-collapse\" data-toggle=\"collapse\" type=\"button\">\n",
       "<span class=\"sr-only\">Toggle navigation</span>\n",
       "<span class=\"icon-bar top-bar\"></span>\n",
       "<span class=\"icon-bar middle-bar\"></span>\n",
       "<span class=\"icon-bar bottom-bar\"></span>\n",
       "</button>\n",
       "</a>"
      ]
     },
     "execution_count": 11,
     "metadata": {},
     "output_type": "execute_result"
    }
   ],
   "source": [
    "tag"
   ]
  },
  {
   "cell_type": "code",
   "execution_count": 12,
   "metadata": {},
   "outputs": [
    {
     "data": {
      "text/plain": [
       "{'data-toggle': 'collapse-side',\n",
       " 'data-target': '.side-collapse',\n",
       " 'data-target-2': '.side-collapse-container'}"
      ]
     },
     "execution_count": 12,
     "metadata": {},
     "output_type": "execute_result"
    }
   ],
   "source": [
    "tag.attrs"
   ]
  },
  {
   "cell_type": "code",
   "execution_count": 13,
   "metadata": {},
   "outputs": [
    {
     "data": {
      "text/plain": [
       "'.side-collapse'"
      ]
     },
     "execution_count": 13,
     "metadata": {},
     "output_type": "execute_result"
    }
   ],
   "source": [
    "tag['data-target']"
   ]
  },
  {
   "cell_type": "markdown",
   "metadata": {},
   "source": [
    "-----"
   ]
  },
  {
   "cell_type": "code",
   "execution_count": 14,
   "metadata": {},
   "outputs": [],
   "source": [
    "#find() function in beautiful soup"
   ]
  },
  {
   "cell_type": "code",
   "execution_count": 15,
   "metadata": {},
   "outputs": [],
   "source": [
    "url = 'https://webscraper.io/test-sites/e-commerce/allinone/phones/touch'"
   ]
  },
  {
   "cell_type": "code",
   "execution_count": 16,
   "metadata": {},
   "outputs": [],
   "source": [
    "page = requests.get(url)"
   ]
  },
  {
   "cell_type": "code",
   "execution_count": 17,
   "metadata": {},
   "outputs": [],
   "source": [
    "soup=BeautifulSoup(page.text,'lxml')"
   ]
  },
  {
   "cell_type": "code",
   "execution_count": 18,
   "metadata": {},
   "outputs": [
    {
     "data": {
      "text/plain": [
       "<header class=\"navbar navbar-fixed-top navbar-static\" role=\"banner\">\n",
       "<div class=\"container\">\n",
       "<div class=\"navbar-header\">\n",
       "<a data-target=\".side-collapse\" data-target-2=\".side-collapse-container\" data-toggle=\"collapse-side\">\n",
       "<button aria-controls=\"navbar\" aria-expanded=\"false\" class=\"navbar-toggle pull-right collapsed\" data-target=\"#navbar\" data-target-2=\".side-collapse-container\" data-target-3=\".side-collapse\" data-toggle=\"collapse\" type=\"button\">\n",
       "<span class=\"sr-only\">Toggle navigation</span>\n",
       "<span class=\"icon-bar top-bar\"></span>\n",
       "<span class=\"icon-bar middle-bar\"></span>\n",
       "<span class=\"icon-bar bottom-bar\"></span>\n",
       "</button>\n",
       "</a>\n",
       "<div class=\"navbar-brand\">\n",
       "<a href=\"/\"><img alt=\"Web Scraper\" src=\"/img/logo_white.svg\"/></a>\n",
       "</div>\n",
       "</div>\n",
       "<div class=\"side-collapse in\">\n",
       "<nav class=\"navbar-collapse collapse\" id=\"navbar\" role=\"navigation\">\n",
       "<ul class=\"nav navbar-nav navbar-right\">\n",
       "<li class=\"hidden\">\n",
       "<a href=\"#page-top\"></a>\n",
       "</li>\n",
       "<li>\n",
       "<a class=\"menuitm\" href=\"/\">\n",
       "<p>Web Scraper</p>\n",
       "<div class=\"crta\"></div>\n",
       "</a>\n",
       "</li>\n",
       "<li>\n",
       "<a class=\"menuitm\" href=\"/cloud-scraper\">\n",
       "<p>Cloud Scraper</p>\n",
       "<div class=\"crta\"></div>\n",
       "</a>\n",
       "</li>\n",
       "<li>\n",
       "<a class=\"menuitm\" href=\"/pricing\">\n",
       "<p>Pricing</p>\n",
       "<div class=\"crta\"></div>\n",
       "</a>\n",
       "</li>\n",
       "<li class=\"dropdown\">\n",
       "<a class=\"menuitm dropdown-toggle\" data-toggle=\"dropdown\" href=\"#section3\">\n",
       "<p>Learn</p>\n",
       "<div class=\"crta\"></div>\n",
       "</a>\n",
       "<ul class=\"dropdown-menu\">\n",
       "<li>\n",
       "<a href=\"/documentation\">Documentation</a>\n",
       "</li>\n",
       "<li>\n",
       "<a href=\"/tutorials\">Video Tutorials</a>\n",
       "</li>\n",
       "<li>\n",
       "<a href=\"/how-to-videos\">How to</a>\n",
       "</li>\n",
       "<li>\n",
       "<a href=\"/test-sites\">Test Sites</a>\n",
       "</li>\n",
       "<li>\n",
       "<a href=\"https://forum.webscraper.io/\" rel=\"noopener\" target=\"_blank\">Forum</a>\n",
       "</li>\n",
       "</ul>\n",
       "</li>\n",
       "<li>\n",
       "<a class=\"btn-menu1 install-extension\" href=\"https://chrome.google.com/webstore/detail/web-scraper/jnhgnonknehpejjnehehllkliplmbmhn?hl=en\" rel=\"noopener\" target=\"_blank\">Install</a>\n",
       "</li>\n",
       "<li>\n",
       "<a class=\"btn-menu2\" href=\"https://cloud.webscraper.io/\">Login</a>\n",
       "</li>\n",
       "</ul>\n",
       "</nav>\n",
       "</div>\n",
       "</div>\n",
       "</header>"
      ]
     },
     "execution_count": 18,
     "metadata": {},
     "output_type": "execute_result"
    }
   ],
   "source": [
    "soup.find('header')"
   ]
  },
  {
   "cell_type": "markdown",
   "metadata": {},
   "source": [
    "#### The above result can also be obtained via soup.header command. The reason we use find instead is if there are multiple headers or multiple divs, find extracts all of them vs soup.header or soup.div will only extract the first occurance of header and div"
   ]
  },
  {
   "cell_type": "code",
   "execution_count": 19,
   "metadata": {},
   "outputs": [
    {
     "data": {
      "text/plain": [
       "<h4 class=\"pull-right price\">$24.99</h4>"
      ]
     },
     "execution_count": 19,
     "metadata": {},
     "output_type": "execute_result"
    }
   ],
   "source": [
    "soup.find('h4',{'class':'pull-right price'})"
   ]
  },
  {
   "cell_type": "code",
   "execution_count": 20,
   "metadata": {},
   "outputs": [
    {
     "data": {
      "text/plain": [
       "[<h4 class=\"pull-right price\">$24.99</h4>,\n",
       " <h4 class=\"pull-right price\">$57.99</h4>,\n",
       " <h4 class=\"pull-right price\">$93.99</h4>,\n",
       " <h4 class=\"pull-right price\">$109.99</h4>,\n",
       " <h4 class=\"pull-right price\">$118.99</h4>,\n",
       " <h4 class=\"pull-right price\">$499.99</h4>,\n",
       " <h4 class=\"pull-right price\">$899.99</h4>,\n",
       " <h4 class=\"pull-right price\">$899.99</h4>,\n",
       " <h4 class=\"pull-right price\">$899.99</h4>]"
      ]
     },
     "execution_count": 20,
     "metadata": {},
     "output_type": "execute_result"
    }
   ],
   "source": [
    "soup.find_all('h4',{'class':'pull-right price'})"
   ]
  },
  {
   "cell_type": "code",
   "execution_count": 21,
   "metadata": {},
   "outputs": [
    {
     "data": {
      "text/plain": [
       "[<a class=\"title\" href=\"/test-sites/e-commerce/allinone/product/486\" title=\"Nokia 123\">Nokia 123</a>,\n",
       " <a class=\"title\" href=\"/test-sites/e-commerce/allinone/product/487\" title=\"LG Optimus\">LG Optimus</a>,\n",
       " <a class=\"title\" href=\"/test-sites/e-commerce/allinone/product/488\" title=\"Samsung Galaxy\">Samsung Galaxy</a>,\n",
       " <a class=\"title\" href=\"/test-sites/e-commerce/allinone/product/489\" title=\"Nokia X\">Nokia X</a>,\n",
       " <a class=\"title\" href=\"/test-sites/e-commerce/allinone/product/490\" title=\"Sony Xperia\">Sony Xperia</a>,\n",
       " <a class=\"title\" href=\"/test-sites/e-commerce/allinone/product/491\" title=\"Ubuntu Edge\">Ubuntu Edge</a>,\n",
       " <a class=\"title\" href=\"/test-sites/e-commerce/allinone/product/492\" title=\"Iphone\">Iphone</a>,\n",
       " <a class=\"title\" href=\"/test-sites/e-commerce/allinone/product/493\" title=\"Iphone\">Iphone</a>,\n",
       " <a class=\"title\" href=\"/test-sites/e-commerce/allinone/product/494\" title=\"Iphone\">Iphone</a>]"
      ]
     },
     "execution_count": 21,
     "metadata": {},
     "output_type": "execute_result"
    }
   ],
   "source": [
    "soup.find_all('a',{'class':'title'})"
   ]
  },
  {
   "cell_type": "markdown",
   "metadata": {},
   "source": [
    "#### You can also call multiple tags at once with find_all"
   ]
  },
  {
   "cell_type": "code",
   "execution_count": 22,
   "metadata": {},
   "outputs": [
    {
     "data": {
      "text/plain": [
       "[<p>Web Scraper</p>,\n",
       " <p>Cloud Scraper</p>,\n",
       " <p>Pricing</p>,\n",
       " <p>Learn</p>,\n",
       " <h4 class=\"pull-right price\">$24.99</h4>,\n",
       " <h4>\n",
       " <a class=\"title\" href=\"/test-sites/e-commerce/allinone/product/486\" title=\"Nokia 123\">Nokia 123</a>\n",
       " </h4>,\n",
       " <p class=\"description\">7 day battery</p>,\n",
       " <p class=\"pull-right\">11 reviews</p>,\n",
       " <p data-rating=\"3\">\n",
       " <span class=\"glyphicon glyphicon-star\"></span>\n",
       " <span class=\"glyphicon glyphicon-star\"></span>\n",
       " <span class=\"glyphicon glyphicon-star\"></span>\n",
       " </p>,\n",
       " <h4 class=\"pull-right price\">$57.99</h4>,\n",
       " <h4>\n",
       " <a class=\"title\" href=\"/test-sites/e-commerce/allinone/product/487\" title=\"LG Optimus\">LG Optimus</a>\n",
       " </h4>,\n",
       " <p class=\"description\">3.2\" screen</p>,\n",
       " <p class=\"pull-right\">11 reviews</p>,\n",
       " <p data-rating=\"3\">\n",
       " <span class=\"glyphicon glyphicon-star\"></span>\n",
       " <span class=\"glyphicon glyphicon-star\"></span>\n",
       " <span class=\"glyphicon glyphicon-star\"></span>\n",
       " </p>,\n",
       " <h4 class=\"pull-right price\">$93.99</h4>,\n",
       " <h4>\n",
       " <a class=\"title\" href=\"/test-sites/e-commerce/allinone/product/488\" title=\"Samsung Galaxy\">Samsung Galaxy</a>\n",
       " </h4>,\n",
       " <p class=\"description\">5 mpx. Android 5.0</p>,\n",
       " <p class=\"pull-right\">3 reviews</p>,\n",
       " <p data-rating=\"3\">\n",
       " <span class=\"glyphicon glyphicon-star\"></span>\n",
       " <span class=\"glyphicon glyphicon-star\"></span>\n",
       " <span class=\"glyphicon glyphicon-star\"></span>\n",
       " </p>,\n",
       " <h4 class=\"pull-right price\">$109.99</h4>,\n",
       " <h4>\n",
       " <a class=\"title\" href=\"/test-sites/e-commerce/allinone/product/489\" title=\"Nokia X\">Nokia X</a>\n",
       " </h4>,\n",
       " <p class=\"description\">Andoid, Jolla dualboot</p>,\n",
       " <p class=\"pull-right\">4 reviews</p>,\n",
       " <p data-rating=\"4\">\n",
       " <span class=\"glyphicon glyphicon-star\"></span>\n",
       " <span class=\"glyphicon glyphicon-star\"></span>\n",
       " <span class=\"glyphicon glyphicon-star\"></span>\n",
       " <span class=\"glyphicon glyphicon-star\"></span>\n",
       " </p>,\n",
       " <h4 class=\"pull-right price\">$118.99</h4>,\n",
       " <h4>\n",
       " <a class=\"title\" href=\"/test-sites/e-commerce/allinone/product/490\" title=\"Sony Xperia\">Sony Xperia</a>\n",
       " </h4>,\n",
       " <p class=\"description\">GPS, waterproof</p>,\n",
       " <p class=\"pull-right\">6 reviews</p>,\n",
       " <p data-rating=\"1\">\n",
       " <span class=\"glyphicon glyphicon-star\"></span>\n",
       " </p>,\n",
       " <h4 class=\"pull-right price\">$499.99</h4>,\n",
       " <h4>\n",
       " <a class=\"title\" href=\"/test-sites/e-commerce/allinone/product/491\" title=\"Ubuntu Edge\">Ubuntu Edge</a>\n",
       " </h4>,\n",
       " <p class=\"description\">Sapphire glass</p>,\n",
       " <p class=\"pull-right\">2 reviews</p>,\n",
       " <p data-rating=\"1\">\n",
       " <span class=\"glyphicon glyphicon-star\"></span>\n",
       " </p>,\n",
       " <h4 class=\"pull-right price\">$899.99</h4>,\n",
       " <h4>\n",
       " <a class=\"title\" href=\"/test-sites/e-commerce/allinone/product/492\" title=\"Iphone\">Iphone</a>\n",
       " </h4>,\n",
       " <p class=\"description\">White</p>,\n",
       " <p class=\"pull-right\">10 reviews</p>,\n",
       " <p data-rating=\"1\">\n",
       " <span class=\"glyphicon glyphicon-star\"></span>\n",
       " </p>,\n",
       " <h4 class=\"pull-right price\">$899.99</h4>,\n",
       " <h4>\n",
       " <a class=\"title\" href=\"/test-sites/e-commerce/allinone/product/493\" title=\"Iphone\">Iphone</a>\n",
       " </h4>,\n",
       " <p class=\"description\">Silver</p>,\n",
       " <p class=\"pull-right\">8 reviews</p>,\n",
       " <p data-rating=\"2\">\n",
       " <span class=\"glyphicon glyphicon-star\"></span>\n",
       " <span class=\"glyphicon glyphicon-star\"></span>\n",
       " </p>,\n",
       " <h4 class=\"pull-right price\">$899.99</h4>,\n",
       " <h4>\n",
       " <a class=\"title\" href=\"/test-sites/e-commerce/allinone/product/494\" title=\"Iphone\">Iphone</a>\n",
       " </h4>,\n",
       " <p class=\"description\">Black</p>,\n",
       " <p class=\"pull-right\">1 reviews</p>,\n",
       " <p data-rating=\"1\">\n",
       " <span class=\"glyphicon glyphicon-star\"></span>\n",
       " </p>,\n",
       " <p>Products</p>,\n",
       " <p>Company</p>,\n",
       " <p>Resources</p>,\n",
       " <p>CONTACT US</p>,\n",
       " <p class=\"copyright\">Copyright &amp;copy 2023\n",
       " \t\t\t\t\t<a href=\"#\">Web Scraper</a> | All rights\n",
       " \t\t\t\t\treserved | Made by zoom59</p>]"
      ]
     },
     "execution_count": 22,
     "metadata": {},
     "output_type": "execute_result"
    }
   ],
   "source": [
    "soup.find_all(['h4','p']) #this will call all h4 and p tags"
   ]
  },
  {
   "cell_type": "code",
   "execution_count": 23,
   "metadata": {},
   "outputs": [
    {
     "data": {
      "text/plain": [
       "['Iphone', 'Iphone', 'Iphone']"
      ]
     },
     "execution_count": 23,
     "metadata": {},
     "output_type": "execute_result"
    }
   ],
   "source": [
    "soup.find_all(string = 'Iphone')"
   ]
  },
  {
   "cell_type": "code",
   "execution_count": 24,
   "metadata": {},
   "outputs": [],
   "source": [
    "import re\n"
   ]
  },
  {
   "cell_type": "code",
   "execution_count": 25,
   "metadata": {},
   "outputs": [
    {
     "data": {
      "text/plain": [
       "['Iphone', 'Iphone', 'Iphone']"
      ]
     },
     "execution_count": 25,
     "metadata": {},
     "output_type": "execute_result"
    }
   ],
   "source": [
    "soup.find_all(string = re.compile('Iph'))"
   ]
  },
  {
   "cell_type": "code",
   "execution_count": 26,
   "metadata": {},
   "outputs": [
    {
     "data": {
      "text/plain": [
       "['Nokia 123', 'Nokia X']"
      ]
     },
     "execution_count": 26,
     "metadata": {},
     "output_type": "execute_result"
    }
   ],
   "source": [
    "soup.find_all(string = re.compile('Nokia'))"
   ]
  },
  {
   "cell_type": "code",
   "execution_count": 27,
   "metadata": {},
   "outputs": [
    {
     "data": {
      "text/plain": [
       "[]"
      ]
     },
     "execution_count": 27,
     "metadata": {},
     "output_type": "execute_result"
    }
   ],
   "source": [
    "soup.find_all(string = 'Nokia')"
   ]
  },
  {
   "cell_type": "code",
   "execution_count": 28,
   "metadata": {},
   "outputs": [
    {
     "data": {
      "text/plain": [
       "[<p class=\"pull-right\">11 reviews</p>,\n",
       " <p class=\"pull-right\">11 reviews</p>,\n",
       " <p class=\"pull-right\">3 reviews</p>,\n",
       " <p class=\"pull-right\">4 reviews</p>,\n",
       " <p class=\"pull-right\">6 reviews</p>,\n",
       " <p class=\"pull-right\">2 reviews</p>,\n",
       " <p class=\"pull-right\">10 reviews</p>,\n",
       " <p class=\"pull-right\">8 reviews</p>,\n",
       " <p class=\"pull-right\">1 reviews</p>]"
      ]
     },
     "execution_count": 28,
     "metadata": {},
     "output_type": "execute_result"
    }
   ],
   "source": [
    "soup.find_all('p',{'class':re.compile('pull')})"
   ]
  },
  {
   "cell_type": "code",
   "execution_count": 29,
   "metadata": {},
   "outputs": [
    {
     "data": {
      "text/plain": [
       "[<p class=\"pull-right\">11 reviews</p>,\n",
       " <p class=\"pull-right\">11 reviews</p>,\n",
       " <p class=\"pull-right\">3 reviews</p>]"
      ]
     },
     "execution_count": 29,
     "metadata": {},
     "output_type": "execute_result"
    }
   ],
   "source": [
    "soup.find_all('p',{'class':re.compile('pull')},limit = 3)"
   ]
  },
  {
   "cell_type": "code",
   "execution_count": 30,
   "metadata": {},
   "outputs": [
    {
     "data": {
      "text/plain": [
       "['Nokia 123', 'Iphone', 'Iphone', 'Iphone']"
      ]
     },
     "execution_count": 30,
     "metadata": {},
     "output_type": "execute_result"
    }
   ],
   "source": [
    "soup.find_all(string = ['Iphone','Nokia 123'])"
   ]
  },
  {
   "cell_type": "code",
   "execution_count": 31,
   "metadata": {},
   "outputs": [
    {
     "data": {
      "text/plain": [
       "['Nokia 123', 'Nokia X', 'Iphone', 'Iphone', 'Iphone']"
      ]
     },
     "execution_count": 31,
     "metadata": {},
     "output_type": "execute_result"
    }
   ],
   "source": [
    "soup.find_all(string = [re.compile('Iph'),re.compile('Noki')])"
   ]
  },
  {
   "cell_type": "code",
   "execution_count": 32,
   "metadata": {},
   "outputs": [],
   "source": [
    "#find_all part3"
   ]
  },
  {
   "cell_type": "code",
   "execution_count": 33,
   "metadata": {},
   "outputs": [],
   "source": [
    "product_name = soup.find_all('a',class_='title')"
   ]
  },
  {
   "cell_type": "code",
   "execution_count": 34,
   "metadata": {},
   "outputs": [
    {
     "data": {
      "text/plain": [
       "[<a class=\"title\" href=\"/test-sites/e-commerce/allinone/product/486\" title=\"Nokia 123\">Nokia 123</a>,\n",
       " <a class=\"title\" href=\"/test-sites/e-commerce/allinone/product/487\" title=\"LG Optimus\">LG Optimus</a>,\n",
       " <a class=\"title\" href=\"/test-sites/e-commerce/allinone/product/488\" title=\"Samsung Galaxy\">Samsung Galaxy</a>,\n",
       " <a class=\"title\" href=\"/test-sites/e-commerce/allinone/product/489\" title=\"Nokia X\">Nokia X</a>,\n",
       " <a class=\"title\" href=\"/test-sites/e-commerce/allinone/product/490\" title=\"Sony Xperia\">Sony Xperia</a>,\n",
       " <a class=\"title\" href=\"/test-sites/e-commerce/allinone/product/491\" title=\"Ubuntu Edge\">Ubuntu Edge</a>,\n",
       " <a class=\"title\" href=\"/test-sites/e-commerce/allinone/product/492\" title=\"Iphone\">Iphone</a>,\n",
       " <a class=\"title\" href=\"/test-sites/e-commerce/allinone/product/493\" title=\"Iphone\">Iphone</a>,\n",
       " <a class=\"title\" href=\"/test-sites/e-commerce/allinone/product/494\" title=\"Iphone\">Iphone</a>]"
      ]
     },
     "execution_count": 34,
     "metadata": {},
     "output_type": "execute_result"
    }
   ],
   "source": [
    "product_name"
   ]
  },
  {
   "cell_type": "code",
   "execution_count": 35,
   "metadata": {},
   "outputs": [],
   "source": [
    "price = soup.find_all('h4',class_='pull-right price')"
   ]
  },
  {
   "cell_type": "code",
   "execution_count": 36,
   "metadata": {},
   "outputs": [
    {
     "data": {
      "text/plain": [
       "[<h4 class=\"pull-right price\">$24.99</h4>,\n",
       " <h4 class=\"pull-right price\">$57.99</h4>,\n",
       " <h4 class=\"pull-right price\">$93.99</h4>,\n",
       " <h4 class=\"pull-right price\">$109.99</h4>,\n",
       " <h4 class=\"pull-right price\">$118.99</h4>,\n",
       " <h4 class=\"pull-right price\">$499.99</h4>,\n",
       " <h4 class=\"pull-right price\">$899.99</h4>,\n",
       " <h4 class=\"pull-right price\">$899.99</h4>,\n",
       " <h4 class=\"pull-right price\">$899.99</h4>]"
      ]
     },
     "execution_count": 36,
     "metadata": {},
     "output_type": "execute_result"
    }
   ],
   "source": [
    "price"
   ]
  },
  {
   "cell_type": "code",
   "execution_count": 37,
   "metadata": {},
   "outputs": [],
   "source": [
    "reviews = soup.find_all('p',class_='pull-right')"
   ]
  },
  {
   "cell_type": "code",
   "execution_count": 38,
   "metadata": {},
   "outputs": [
    {
     "data": {
      "text/plain": [
       "[<p class=\"pull-right\">11 reviews</p>,\n",
       " <p class=\"pull-right\">11 reviews</p>,\n",
       " <p class=\"pull-right\">3 reviews</p>,\n",
       " <p class=\"pull-right\">4 reviews</p>,\n",
       " <p class=\"pull-right\">6 reviews</p>,\n",
       " <p class=\"pull-right\">2 reviews</p>,\n",
       " <p class=\"pull-right\">10 reviews</p>,\n",
       " <p class=\"pull-right\">8 reviews</p>,\n",
       " <p class=\"pull-right\">1 reviews</p>]"
      ]
     },
     "execution_count": 38,
     "metadata": {},
     "output_type": "execute_result"
    }
   ],
   "source": [
    "reviews"
   ]
  },
  {
   "cell_type": "code",
   "execution_count": 39,
   "metadata": {},
   "outputs": [],
   "source": [
    "description = soup.find_all('p',class_='description')"
   ]
  },
  {
   "cell_type": "code",
   "execution_count": 40,
   "metadata": {},
   "outputs": [
    {
     "data": {
      "text/plain": [
       "[<p class=\"description\">7 day battery</p>,\n",
       " <p class=\"description\">3.2\" screen</p>,\n",
       " <p class=\"description\">5 mpx. Android 5.0</p>,\n",
       " <p class=\"description\">Andoid, Jolla dualboot</p>,\n",
       " <p class=\"description\">GPS, waterproof</p>,\n",
       " <p class=\"description\">Sapphire glass</p>,\n",
       " <p class=\"description\">White</p>,\n",
       " <p class=\"description\">Silver</p>,\n",
       " <p class=\"description\">Black</p>]"
      ]
     },
     "execution_count": 40,
     "metadata": {},
     "output_type": "execute_result"
    }
   ],
   "source": [
    "description"
   ]
  },
  {
   "cell_type": "code",
   "execution_count": 41,
   "metadata": {},
   "outputs": [],
   "source": [
    "product_list = []\n",
    "for i in product_name:\n",
    "    prod_name= i.text\n",
    "    product_list.append(prod_name)"
   ]
  },
  {
   "cell_type": "code",
   "execution_count": 42,
   "metadata": {},
   "outputs": [
    {
     "data": {
      "text/plain": [
       "['Nokia 123',\n",
       " 'LG Optimus',\n",
       " 'Samsung Galaxy',\n",
       " 'Nokia X',\n",
       " 'Sony Xperia',\n",
       " 'Ubuntu Edge',\n",
       " 'Iphone',\n",
       " 'Iphone',\n",
       " 'Iphone']"
      ]
     },
     "execution_count": 42,
     "metadata": {},
     "output_type": "execute_result"
    }
   ],
   "source": [
    "product_list"
   ]
  },
  {
   "cell_type": "code",
   "execution_count": 43,
   "metadata": {},
   "outputs": [],
   "source": [
    "description_list = []\n",
    "for i in description:\n",
    "    description2 = i.text\n",
    "    description_list.append(description2)\n",
    "    "
   ]
  },
  {
   "cell_type": "code",
   "execution_count": 44,
   "metadata": {},
   "outputs": [
    {
     "data": {
      "text/plain": [
       "['7 day battery',\n",
       " '3.2\" screen',\n",
       " '5 mpx. Android 5.0',\n",
       " 'Andoid, Jolla dualboot',\n",
       " 'GPS, waterproof',\n",
       " 'Sapphire glass',\n",
       " 'White',\n",
       " 'Silver',\n",
       " 'Black']"
      ]
     },
     "execution_count": 44,
     "metadata": {},
     "output_type": "execute_result"
    }
   ],
   "source": [
    "description_list"
   ]
  },
  {
   "cell_type": "code",
   "execution_count": 45,
   "metadata": {},
   "outputs": [],
   "source": [
    "table = pd.DataFrame({'Product_Name':product_list,\"Description\":description_list})"
   ]
  },
  {
   "cell_type": "code",
   "execution_count": 46,
   "metadata": {},
   "outputs": [
    {
     "data": {
      "text/html": [
       "<div>\n",
       "<style scoped>\n",
       "    .dataframe tbody tr th:only-of-type {\n",
       "        vertical-align: middle;\n",
       "    }\n",
       "\n",
       "    .dataframe tbody tr th {\n",
       "        vertical-align: top;\n",
       "    }\n",
       "\n",
       "    .dataframe thead th {\n",
       "        text-align: right;\n",
       "    }\n",
       "</style>\n",
       "<table border=\"1\" class=\"dataframe\">\n",
       "  <thead>\n",
       "    <tr style=\"text-align: right;\">\n",
       "      <th></th>\n",
       "      <th>Product_Name</th>\n",
       "      <th>Description</th>\n",
       "    </tr>\n",
       "  </thead>\n",
       "  <tbody>\n",
       "    <tr>\n",
       "      <td>0</td>\n",
       "      <td>Nokia 123</td>\n",
       "      <td>7 day battery</td>\n",
       "    </tr>\n",
       "    <tr>\n",
       "      <td>1</td>\n",
       "      <td>LG Optimus</td>\n",
       "      <td>3.2\" screen</td>\n",
       "    </tr>\n",
       "    <tr>\n",
       "      <td>2</td>\n",
       "      <td>Samsung Galaxy</td>\n",
       "      <td>5 mpx. Android 5.0</td>\n",
       "    </tr>\n",
       "    <tr>\n",
       "      <td>3</td>\n",
       "      <td>Nokia X</td>\n",
       "      <td>Andoid, Jolla dualboot</td>\n",
       "    </tr>\n",
       "    <tr>\n",
       "      <td>4</td>\n",
       "      <td>Sony Xperia</td>\n",
       "      <td>GPS, waterproof</td>\n",
       "    </tr>\n",
       "    <tr>\n",
       "      <td>5</td>\n",
       "      <td>Ubuntu Edge</td>\n",
       "      <td>Sapphire glass</td>\n",
       "    </tr>\n",
       "    <tr>\n",
       "      <td>6</td>\n",
       "      <td>Iphone</td>\n",
       "      <td>White</td>\n",
       "    </tr>\n",
       "    <tr>\n",
       "      <td>7</td>\n",
       "      <td>Iphone</td>\n",
       "      <td>Silver</td>\n",
       "    </tr>\n",
       "    <tr>\n",
       "      <td>8</td>\n",
       "      <td>Iphone</td>\n",
       "      <td>Black</td>\n",
       "    </tr>\n",
       "  </tbody>\n",
       "</table>\n",
       "</div>"
      ],
      "text/plain": [
       "     Product_Name             Description\n",
       "0       Nokia 123           7 day battery\n",
       "1      LG Optimus             3.2\" screen\n",
       "2  Samsung Galaxy      5 mpx. Android 5.0\n",
       "3         Nokia X  Andoid, Jolla dualboot\n",
       "4     Sony Xperia         GPS, waterproof\n",
       "5     Ubuntu Edge          Sapphire glass\n",
       "6          Iphone                   White\n",
       "7          Iphone                  Silver\n",
       "8          Iphone                   Black"
      ]
     },
     "execution_count": 46,
     "metadata": {},
     "output_type": "execute_result"
    }
   ],
   "source": [
    "table"
   ]
  },
  {
   "cell_type": "code",
   "execution_count": 47,
   "metadata": {},
   "outputs": [],
   "source": [
    "#scraping entire boxes\n",
    "boxes = soup.find_all('div',class_ = 'col-sm-4 col-lg-4 col-md-4')"
   ]
  },
  {
   "cell_type": "code",
   "execution_count": 48,
   "metadata": {},
   "outputs": [
    {
     "data": {
      "text/plain": [
       "9"
      ]
     },
     "execution_count": 48,
     "metadata": {},
     "output_type": "execute_result"
    }
   ],
   "source": [
    "len(boxes)"
   ]
  },
  {
   "cell_type": "code",
   "execution_count": 49,
   "metadata": {},
   "outputs": [
    {
     "ename": "AttributeError",
     "evalue": "ResultSet object has no attribute 'find'. You're probably treating a list of items like a single item. Did you call find_all() when you meant to call find()?",
     "output_type": "error",
     "traceback": [
      "\u001b[1;31m---------------------------------------------------------------------------\u001b[0m",
      "\u001b[1;31mAttributeError\u001b[0m                            Traceback (most recent call last)",
      "\u001b[1;32m<ipython-input-49-a9771fd50a85>\u001b[0m in \u001b[0;36m<module>\u001b[1;34m\u001b[0m\n\u001b[1;32m----> 1\u001b[1;33m \u001b[0mboxes\u001b[0m\u001b[1;33m.\u001b[0m\u001b[0mfind\u001b[0m\u001b[1;33m(\u001b[0m\u001b[1;34m'a'\u001b[0m\u001b[1;33m)\u001b[0m\u001b[1;33m\u001b[0m\u001b[1;33m\u001b[0m\u001b[0m\n\u001b[0m",
      "\u001b[1;32m~\\Anaconda3\\lib\\site-packages\\bs4\\element.py\u001b[0m in \u001b[0;36m__getattr__\u001b[1;34m(self, key)\u001b[0m\n\u001b[0;32m   1576\u001b[0m     \u001b[1;32mdef\u001b[0m \u001b[0m__getattr__\u001b[0m\u001b[1;33m(\u001b[0m\u001b[0mself\u001b[0m\u001b[1;33m,\u001b[0m \u001b[0mkey\u001b[0m\u001b[1;33m)\u001b[0m\u001b[1;33m:\u001b[0m\u001b[1;33m\u001b[0m\u001b[1;33m\u001b[0m\u001b[0m\n\u001b[0;32m   1577\u001b[0m         raise AttributeError(\n\u001b[1;32m-> 1578\u001b[1;33m             \u001b[1;34m\"ResultSet object has no attribute '%s'. You're probably treating a list of items like a single item. Did you call find_all() when you meant to call find()?\"\u001b[0m \u001b[1;33m%\u001b[0m \u001b[0mkey\u001b[0m\u001b[1;33m\u001b[0m\u001b[1;33m\u001b[0m\u001b[0m\n\u001b[0m\u001b[0;32m   1579\u001b[0m         )\n",
      "\u001b[1;31mAttributeError\u001b[0m: ResultSet object has no attribute 'find'. You're probably treating a list of items like a single item. Did you call find_all() when you meant to call find()?"
     ]
    }
   ],
   "source": [
    "boxes.find('a')"
   ]
  },
  {
   "cell_type": "code",
   "execution_count": null,
   "metadata": {},
   "outputs": [],
   "source": []
  },
  {
   "cell_type": "code",
   "execution_count": null,
   "metadata": {},
   "outputs": [],
   "source": []
  }
 ],
 "metadata": {
  "kernelspec": {
   "display_name": "Python 3",
   "language": "python",
   "name": "python3"
  },
  "language_info": {
   "codemirror_mode": {
    "name": "ipython",
    "version": 3
   },
   "file_extension": ".py",
   "mimetype": "text/x-python",
   "name": "python",
   "nbconvert_exporter": "python",
   "pygments_lexer": "ipython3",
   "version": "3.7.4"
  }
 },
 "nbformat": 4,
 "nbformat_minor": 4
}
