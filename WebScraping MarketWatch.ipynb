{
 "cells": [
  {
   "cell_type": "raw",
   "metadata": {},
   "source": [
    "1. price\n",
    "2. closing price\n",
    "3. 52 week high and low\n",
    "4. analyst rating"
   ]
  },
  {
   "cell_type": "code",
   "execution_count": 3,
   "metadata": {},
   "outputs": [],
   "source": [
    "#importing all the libraries that are needed\n",
    "import requests\n",
    "import pandas as pd\n",
    "from bs4 import BeautifulSoup\n",
    "import re"
   ]
  },
  {
   "cell_type": "code",
   "execution_count": 75,
   "metadata": {},
   "outputs": [
    {
     "name": "stdout",
     "output_type": "stream",
     "text": [
      "MSFT - 247.47 - Buy\n",
      "AAPL - 143.69 - Over\n",
      "GOOGL - 97.01 - Buy\n"
     ]
    }
   ],
   "source": [
    "stock_list = ['MSFT','AAPL','GOOGL','']\n",
    "for i in stock_list:\n",
    "    url = \"https://www.marketwatch.com/investing/stock/\"+i+'?mod=search_symbol'\n",
    "    page = requests.get(url)\n",
    "    soup = BeautifulSoup(page.text,'lxml')\n",
    "    print(i,\"-\",soup.find_all('bg-quote',class_=\"value\")[0].text,\"-\",soup.find('li',class_=\"analyst__option active\").text)\n",
    "    "
   ]
  },
  {
   "cell_type": "code",
   "execution_count": 57,
   "metadata": {},
   "outputs": [],
   "source": [
    "# page \n",
    "page = requests.get(url)"
   ]
  },
  {
   "cell_type": "code",
   "execution_count": 58,
   "metadata": {},
   "outputs": [],
   "source": [
    "soup = BeautifulSoup(page.text,'lxml')"
   ]
  },
  {
   "cell_type": "code",
   "execution_count": 64,
   "metadata": {},
   "outputs": [
    {
     "data": {
      "text/plain": [
       "'247.47'"
      ]
     },
     "execution_count": 64,
     "metadata": {},
     "output_type": "execute_result"
    }
   ],
   "source": [
    "soup.find_all('bg-quote',class_=\"value\")[0].text"
   ]
  },
  {
   "cell_type": "code",
   "execution_count": 70,
   "metadata": {},
   "outputs": [
    {
     "data": {
      "text/plain": [
       "'Buy'"
      ]
     },
     "execution_count": 70,
     "metadata": {},
     "output_type": "execute_result"
    }
   ],
   "source": [
    "soup.find('li',class_=\"analyst__option active\").text"
   ]
  },
  {
   "cell_type": "code",
   "execution_count": 80,
   "metadata": {},
   "outputs": [
    {
     "name": "stdout",
     "output_type": "stream",
     "text": [
      "310.10 - Hold\n"
     ]
    }
   ],
   "source": [
    "print(soup.find_all('bg-quote',class_=\"value\")[0].text,\"-\",soup.find('li',class_=\"analyst__option active\").text)"
   ]
  },
  {
   "cell_type": "code",
   "execution_count": 82,
   "metadata": {},
   "outputs": [
    {
     "name": "stdout",
     "output_type": "stream",
     "text": [
      "MSFT - 247.47 - Buy\n",
      "AAPL - 143.69 - Over\n",
      "GOOGL - 97.01 - Buy\n",
      "TSLA - 158.95 - Over\n",
      "BRK.B - 310.10 - Hold\n"
     ]
    }
   ],
   "source": [
    "stock_list = ['MSFT','AAPL','GOOGL','TSLA','BRK.B']\n",
    "for i in stock_list:\n",
    "    url = \"https://www.marketwatch.com/investing/stock/\"+i+'?mod=search_symbol'\n",
    "    page = requests.get(url)\n",
    "    soup = BeautifulSoup(page.text,'lxml')\n",
    "    print(i,\"-\",soup.find_all('bg-quote',class_=\"value\")[0].text,\"-\",soup.find('li',class_=\"analyst__option active\").text)\n",
    "    "
   ]
  },
  {
   "cell_type": "code",
   "execution_count": null,
   "metadata": {},
   "outputs": [],
   "source": []
  }
 ],
 "metadata": {
  "kernelspec": {
   "display_name": "Python 3",
   "language": "python",
   "name": "python3"
  },
  "language_info": {
   "codemirror_mode": {
    "name": "ipython",
    "version": 3
   },
   "file_extension": ".py",
   "mimetype": "text/x-python",
   "name": "python",
   "nbconvert_exporter": "python",
   "pygments_lexer": "ipython3",
   "version": "3.7.4"
  }
 },
 "nbformat": 4,
 "nbformat_minor": 4
}
